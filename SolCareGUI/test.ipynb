{
 "cells": [
  {
   "cell_type": "markdown",
   "metadata": {},
   "source": [
    "### User 정보 확인"
   ]
  },
  {
   "cell_type": "markdown",
   "metadata": {},
   "source": [
    "## "
   ]
  },
  {
   "cell_type": "code",
   "execution_count": null,
   "metadata": {},
   "outputs": [],
   "source": [
    "import hashlib\n",
    "import mysql.connector\n",
    "\n",
    "def CheckUserInfo(user_info):\n",
    "    db = mysql.connector.connect(\n",
    "        host=\"database-1.cbcw28i2we7h.us-east-2.rds.amazonaws.com\",\n",
    "        user=\"ks\",\n",
    "        password=\"1234\",\n",
    "        database=\"nahonlab\"\n",
    "    )\n",
    "    input_username = user_info[0]\n",
    "    input_password = user_info[1]\n",
    "    password_hash = hashlib.sha256(input_password.encode(\"utf-8\")).hexdigest()\n",
    "\n",
    "    cursor = db.cursor()\n",
    "    query = \"\"\"\n",
    "    SELECT nickname, pw FROM user_sighup\n",
    "    WHERE username = %s AND pw = %s\n",
    "    \"\"\"\n",
    "    cursor.execute(query, (input_username, password_hash))\n",
    "\n",
    "    # Fetch results\n",
    "    result = cursor.fetchone()\n",
    "\n",
    "    if result:\n",
    "        print(\"login_success\") # or 0 send TCP\n",
    "    else:\n",
    "        print(\"login_fail\") # or 1send TCP\n",
    "\n",
    "    cursor.close()\n",
    "    db.close()\n"
   ]
  },
  {
   "cell_type": "code",
   "execution_count": null,
   "metadata": {},
   "outputs": [],
   "source": [
    "import cv2\n",
    "\n",
    "# Replace with your webcam's IP address and port\n",
    "cap = cv2.VideoCapture(\"http://sunny:Tjsdnddl53746@@192.168.0.125/video\")\n",
    "\n",
    "while True:\n",
    "    # Read a frame from the webcam\n",
    "    ret, frame = cap.read()\n",
    "    \n",
    "    if not ret:\n",
    "        print(\"Failed to grab frame\")\n",
    "        break\n",
    "    \n",
    "    # Display the frame\n",
    "    cv2.imshow('Wireless Webcam', frame)\n",
    "    \n",
    "    # Break the loop if 'q' is pressed\n",
    "    if cv2.waitKey(1) & 0xFF == ord('q'):\n",
    "        break\n",
    "\n",
    "# Release the VideoCapture object and close windows\n",
    "cap.release()\n",
    "cv2.destroyAllWindows()\n"
   ]
  },
  {
   "cell_type": "code",
   "execution_count": 160,
   "metadata": {},
   "outputs": [
    {
     "name": "stdout",
     "output_type": "stream",
     "text": [
      "Error decoding JSON: Expecting value: line 1 column 1 (char 0)\n",
      "Raw content: Here is the daily meal plan:\n",
      "\n",
      "{\"breakfast\": [\"Scrambled Eggs (180 g)\", \"Whole Wheat Toast (30 g)\", \"Fresh Fruits (120 g)\"], \n",
      "\"Lunch\": [\"Grilled Chicken Breast (140 g)\", \"Mixed Greens Salad (20 g)\", \"Quinoa (80 g)\"], \n",
      "\"Dinner\": [\"Baked Salmon (200 g)\", \"Roasted Vegetables (100 g)\", \"Brown Rice (150 g)\"]}\n"
     ]
    }
   ],
   "source": [
    "import ollama\n",
    "import json\n",
    "\n",
    "# Specify the model name\n",
    "model = 'llama3.2'\n",
    "\n",
    "# Define the prompt content\n",
    "prompt_content = (\n",
    "    \"Create a daily meal plan as a JSON object with the following structure: \"\n",
    "    '{\"breakfast\": [\"string (number g)\", ...], \"lunch\": [\"string (number g)\", ...], '\n",
    "    '\"dinner\": [\"string (number g)\", ...]}. '\n",
    "    \"Each meal should include a list of food items with their weights in grams, formatted as 'food name (weight g)'. \"\n",
    "    \"The JSON object must be valid and contain no additional explanation or text.\"\n",
    ")\n",
    "\n",
    "# Construct the messages for Ollama\n",
    "messages = [\n",
    "    {\"role\": \"user\", \"content\": prompt_content}\n",
    "]\n",
    "\n",
    "# Call the model\n",
    "response = ollama.chat(\n",
    "    model=model,\n",
    "    messages=messages\n",
    ")\n",
    "\n",
    "# Extract and parse the response content\n",
    "response_content = response.get('message', {}).get('content', '')\n",
    "\n",
    "# Parse directly into a dictionary\n",
    "try:\n",
    "    result_dict = json.loads(response_content)\n",
    "    print(result_dict)  # Output the result as a dictionary\n",
    "except json.JSONDecodeError as e:\n",
    "    print(\"Error decoding JSON:\", e)\n",
    "    print(\"Raw content:\", response_content)"
   ]
  },
  {
   "cell_type": "code",
   "execution_count": 161,
   "metadata": {},
   "outputs": [
    {
     "name": "stdout",
     "output_type": "stream",
     "text": [
      "{'아침': ['고구마(150g)', '자두 1개(30g)', '과일 사리안(100g)'], '점심': ['계란 2개(140g)', '고추장 쌀밥 200g', '이celand 피스 120g'], '저녁': ['치즈 80g', '요거트 150g', '영양바 20g']}\n"
     ]
    }
   ],
   "source": [
    "import ollama\n",
    "import json\n",
    "\n",
    "# Specify the model name\n",
    "model = 'llama3.2'\n",
    "\n",
    "# Define the prompt content\n",
    "prompt_content = (\n",
    "    \"다음 구조로 JSON 객체 형태로 하루 식단을 작성하세요. \"\n",
    "    \"탄수화물: 77g, 단백질: 46g, 지방: 25g 이 목표입니다. 결과물은 무조건 한국어여야 됩니다: \"\n",
    "    '{\"아침\": [\"string (number g)\", ...], \"점심\": [\"string (number g)\", ...], \"저녁\": [\"string (number g)\", ...]}. '\n",
    "    \"각 식사는 음식 항목과 그램 단위의 무게를 포함해야 하며, '음식 이름 (무게 g)' 형식으로 작성해야 합니다. \"\n",
    "    \"JSON 객체는 유효해야 하며 추가적인 설명이나 텍스트는 포함하지 마세요.\"\n",
    ")\n",
    "\n",
    "# Construct the messages for Ollama\n",
    "messages = [\n",
    "    {\"role\": \"user\", \"content\": prompt_content}\n",
    "]\n",
    "\n",
    "# Call the model\n",
    "response = ollama.chat(\n",
    "    model=model,\n",
    "    messages=messages\n",
    ")\n",
    "\n",
    "# Extract and parse the response content\n",
    "response_content = response.get('message', {}).get('content', '')\n",
    "\n",
    "# Parse directly into a dictionary\n",
    "try:\n",
    "    result_dict = json.loads(response_content)\n",
    "    print(result_dict)  # Output the result as a dictionary\n",
    "except json.JSONDecodeError as e:\n",
    "    print(\"Error decoding JSON:\", e)\n",
    "    print(\"Raw content:\", response_content)"
   ]
  },
  {
   "cell_type": "code",
   "execution_count": 102,
   "metadata": {},
   "outputs": [
    {
     "ename": "NameError",
     "evalue": "name 'input_username' is not defined",
     "output_type": "error",
     "traceback": [
      "\u001b[0;31m---------------------------------------------------------------------------\u001b[0m",
      "\u001b[0;31mNameError\u001b[0m                                 Traceback (most recent call last)",
      "Cell \u001b[0;32mIn[102], line 28\u001b[0m\n\u001b[1;32m      7\u001b[0m cursor \u001b[38;5;241m=\u001b[39m db\u001b[38;5;241m.\u001b[39mcursor()\n\u001b[1;32m      8\u001b[0m query \u001b[38;5;241m=\u001b[39m \u001b[38;5;124m\"\"\"\u001b[39m\n\u001b[1;32m      9\u001b[0m \u001b[38;5;124mSELECT \u001b[39m\n\u001b[1;32m     10\u001b[0m \u001b[38;5;124m    el.exercise_name,\u001b[39m\n\u001b[0;32m   (...)\u001b[0m\n\u001b[1;32m     26\u001b[0m \u001b[38;5;124m    exercise_date, el.exercise_name;\u001b[39m\n\u001b[1;32m     27\u001b[0m \u001b[38;5;124m\"\"\"\u001b[39m\n\u001b[0;32m---> 28\u001b[0m cursor\u001b[38;5;241m.\u001b[39mexecute(query, (\u001b[43minput_username\u001b[49m, password_hash))\n\u001b[1;32m     30\u001b[0m \u001b[38;5;66;03m# Fetch results\u001b[39;00m\n\u001b[1;32m     31\u001b[0m result \u001b[38;5;241m=\u001b[39m cursor\u001b[38;5;241m.\u001b[39mfetchone()\n",
      "\u001b[0;31mNameError\u001b[0m: name 'input_username' is not defined"
     ]
    }
   ],
   "source": [
    "db = mysql.connector.connect(\n",
    "        host=\"database-1.cbcw28i2we7h.us-east-2.rds.amazonaws.com\",\n",
    "        user=\"ks\",\n",
    "        password=\"1234\",\n",
    "        database=\"nahonlab\"\n",
    "    )\n",
    "cursor = db.cursor()\n",
    "query = \"\"\"\n",
    "SELECT \n",
    "    el.exercise_name,\n",
    "    DATE(etl.performed_at) AS exercise_date,\n",
    "    SUM(er.exercise_cnt) AS total_count,\n",
    "    SUM(er.exercise_set) AS total_set\n",
    "FROM \n",
    "    exercise_time_log etl\n",
    "JOIN \n",
    "    exercise_record er ON etl.exercise_time_id = er.exercise_time_id\n",
    "JOIN \n",
    "    exercise_list el ON er.exercise_id = el.exercise_id\n",
    "WHERE \n",
    "    etl.user_id = 34\n",
    "    AND DATE(etl.performed_at) BETWEEN '2024-11-11' AND '2024-11-16'\n",
    "GROUP BY \n",
    "    exercise_date, el.exercise_name\n",
    "ORDER BY \n",
    "    exercise_date, el.exercise_name;\n",
    "\"\"\"\n",
    "cursor.execute(query, (input_username, password_hash))\n",
    "\n",
    "# Fetch results\n",
    "result = cursor.fetchone()"
   ]
  },
  {
   "cell_type": "code",
   "execution_count": 151,
   "metadata": {},
   "outputs": [],
   "source": [
    "def GetUserAnalyticsGraph(self, Current_User_ID, date_from, date_to):\n",
    "        db = mysql.connector.connect(\n",
    "            host=\"database-1.cbcw28i2we7h.us-east-2.rds.amazonaws.com\",\n",
    "            user=\"ks\",\n",
    "            password=\"1234\",\n",
    "            database=\"nahonlab\"\n",
    "        )\n",
    "\n",
    "        query = \"\"\"\n",
    "        SELECT \n",
    "            el.exercise_name,\n",
    "            DATE(etl.performed_at) AS exercise_date,\n",
    "            SUM(er.exercise_cnt) AS total_count,\n",
    "            SUM(er.exercise_set) AS total_set\n",
    "        FROM \n",
    "            exercise_time_log etl\n",
    "        JOIN \n",
    "            exercise_record er ON etl.exercise_time_id = er.exercise_time_id\n",
    "        JOIN \n",
    "            exercise_list el ON er.exercise_id = el.exercise_id\n",
    "        WHERE \n",
    "            etl.user_id = %s\n",
    "            AND DATE(etl.performed_at) BETWEEN %s AND %s\n",
    "        GROUP BY \n",
    "            exercise_date, el.exercise_name\n",
    "        ORDER BY \n",
    "            exercise_date, el.exercise_name;\n",
    "        \"\"\"\n",
    "\n",
    "        cursor = db.cursor()\n",
    "        cursor.execute(query, (Current_User_ID, date_from , date_to ))\n",
    "\n",
    "        result = cursor.fetchall()\n",
    "        columns = [col[0] for col in cursor.description]\n",
    "\n",
    "        df = pd.DataFrame(result, columns=columns)\n",
    "        db.close()\n",
    "\n",
    "        df['exercise_date'] = pd.to_datetime(df['exercise_date'])\n",
    "        df['total_count'] = pd.to_numeric(df['total_count'], errors='coerce')\n",
    "        df = df.dropna(subset=['total_count'])\n",
    "        df['exercise_date'] = df['exercise_date'].dt.date\n",
    "\n",
    "        pivot_df = df.pivot_table(\n",
    "            index='exercise_date',\n",
    "            columns='exercise_name',\n",
    "            values='total_count',\n",
    "            aggfunc='sum',\n",
    "            fill_value=0\n",
    "        )\n",
    "\n",
    "        # Create a figure and plot the data\n",
    "        fig, ax = plt.subplots(figsize=(10, 6))\n",
    "        pivot_df.plot(kind='bar', stacked=True, ax=ax, colormap='cool')\n",
    "\n",
    "        # Annotate the bars\n",
    "        for idx, rect_group in enumerate(ax.containers):\n",
    "            for rect in rect_group:\n",
    "                height = rect.get_height()\n",
    "                if height > 0:\n",
    "                    x = rect.get_x() + rect.get_width() / 2\n",
    "                    y = rect.get_y() + height / 2\n",
    "                    ax.text(\n",
    "                        x,\n",
    "                        y,\n",
    "                        f'{int(height)}',\n",
    "                        ha='center',\n",
    "                        va='center',\n",
    "                        fontsize=10,\n",
    "                        color='black'\n",
    "                    )\n",
    "\n",
    "        ax.set_yticks([])\n",
    "        ax.set_ylabel('')\n",
    "        ax.set_xlabel('Date', fontsize=12)\n",
    "        ax.set_title(f'{date_from}부터 {date_to}까지의 운동 통계', fontsize=14)\n",
    "        plt.xticks(rotation=45, fontsize=10)\n",
    "\n",
    "        # Return the figure to be used in the canvas\n",
    "        buf = BytesIO()\n",
    "        fig.savefig(buf, format=\"png\", bbox_inches=\"tight\")\n",
    "        buf.seek(0)\n",
    "\n",
    "        # Read the image into a QPixmap\n",
    "        pixmap = QPixmap()\n",
    "        pixmap.loadFromData(buf.getvalue())\n",
    "        buf.close()\n",
    "        \n",
    "        # Return the QPixmap to be used in your QLabel\n",
    "        return pixmap  "
   ]
  },
  {
   "cell_type": "code",
   "execution_count": 156,
   "metadata": {},
   "outputs": [
    {
     "data": {
      "text/plain": [
       "datetime.date(2024, 12, 7)"
      ]
     },
     "execution_count": 156,
     "metadata": {},
     "output_type": "execute_result"
    }
   ],
   "source": [
    "from datetime import timedelta, datetime\n",
    "date_from = (datetime.today() - timedelta(weeks=1)).date()\n",
    "date_from"
   ]
  },
  {
   "cell_type": "code",
   "execution_count": null,
   "metadata": {},
   "outputs": [
    {
     "data": {
      "image/png": "[encoded data removed]",
      "text/plain": [
       "<Figure size 1000x600 with 1 Axes>"
      ]
     },
     "metadata": {
      "needs_background": "light"
     },
     "output_type": "display_data"
    }
   ],
   "source": [
    "import pandas as pd\n",
    "import matplotlib.pyplot as plt\n",
    "from matplotlib import rcParams, font_manager\n",
    "\n",
    "font_path = '/System/Library/AssetsV2/com_apple_MobileAsset_Font7/157acc4d862730d6d5beaa943546f80a71948c7b.asset/AssetData/BMHanna11yrs-Regular.otf'\n",
    "prop = font_manager.FontProperties(fname=font_path)\n",
    "rcParams['font.family'] = prop.get_name()\n",
    "rcParams['font.weight'] = 'normal'\n",
    "\n",
    "User_Name = '김선웅'\n",
    "\n",
    "df['exercise_date'] = pd.to_datetime(df['exercise_date'])\n",
    "df['total_count'] = pd.to_numeric(df['total_count'], errors='coerce')\n",
    "df = df.dropna(subset=['total_count'])\n",
    "df['exercise_date'] = df['exercise_date'].dt.date\n",
    "\n",
    "pivot_df = df.pivot_table(\n",
    "    index='exercise_date',\n",
    "    columns='exercise_name',\n",
    "    values='total_count',\n",
    "    aggfunc='sum',\n",
    "    fill_value=0\n",
    ")\n",
    "\n",
    "fig, ax = plt.subplots(figsize=(10, 6))\n",
    "bars = pivot_df.plot(kind='bar', stacked=True, ax=ax, colormap='cool')\n",
    "\n",
    "for idx, rect_group in enumerate(ax.containers):\n",
    "    for rect in rect_group:\n",
    "        height = rect.get_height()\n",
    "        if height > 0:\n",
    "            x = rect.get_x() + rect.get_width() / 2\n",
    "            y = rect.get_y() + height / 2\n",
    "            ax.text(\n",
    "                x,\n",
    "                y,\n",
    "                f'{int(height)}',\n",
    "                ha='center',\n",
    "                va='center',\n",
    "                fontsize=10,\n",
    "                color='black'\n",
    "            )\n",
    "\n",
    "ax.set_yticks([])\n",
    "ax.set_ylabel('')\n",
    "ax.set_xlabel('Date', fontsize=12)\n",
    "ax.set_title('Stacked Bar Chart of Exercises by Day', fontsize=14)\n",
    "plt.xticks(rotation=45, fontsize=10)\n",
    "\n",
    "ax.legend(title=f'{User_Name}님이 수행한 운동', bbox_to_anchor=(1.05, 1), loc='upper left')\n",
    "fig.patch.set_alpha(0)\n",
    "ax.set_facecolor('none')\n",
    "\n",
    "plt.tight_layout()\n",
    "plt.show()"
   ]
  },
  {
   "cell_type": "code",
   "execution_count": 82,
   "metadata": {},
   "outputs": [
    {
     "data": {
      "text/plain": [
       "['/System/Library/AssetsV2/com_apple_MobileAsset_Font7/157acc4d862730d6d5beaa943546f80a71948c7b.asset/AssetData/BMHanna11yrs-Regular.otf',\n",
       " '/System/Library/AssetsV2/com_apple_MobileAsset_Font7/5b2f5f0b003344b2c67ce463e76d2485bb43d054.asset/AssetData/BMJua-Regular.otf',\n",
       " '/System/Library/AssetsV2/com_apple_MobileAsset_Font7/10b097deccb3c6126d986e24b1980031ff7399da.asset/AssetData/TsukushiBMaruGothic.ttc',\n",
       " '/System/Library/AssetsV2/com_apple_MobileAsset_Font7/5f2614e7b55639e709d8578e16b324b3eb6eb065.asset/AssetData/BMHannaPro-Regular.otf',\n",
       " '/System/Library/AssetsV2/com_apple_MobileAsset_Font7/cd59971ded42add9070aa2172265ba7fcf8d9327.asset/AssetData/BMKirangHaerang-Regular.otf',\n",
       " '/System/Library/AssetsV2/com_apple_MobileAsset_Font7/9bcdfd464af84ab30592d781f4a82f44f548239c.asset/AssetData/BMYeongSung-Regular.otf',\n",
       " '/System/Library/AssetsV2/com_apple_MobileAsset_Font7/e71ea5469e5f2039223f22203ee8b9186524afd3.asset/AssetData/BMDoHyeon-Regular.otf',\n",
       " '/System/Library/AssetsV2/com_apple_MobileAsset_Font7/12cc699be28fb04f3e3c4969a0378a87b920b174.asset/AssetData/BMHannaAir-Regular.otf']"
      ]
     },
     "execution_count": 82,
     "metadata": {},
     "output_type": "execute_result"
    }
   ],
   "source": [
    "import matplotlib.font_manager as fm\n",
    "\n",
    "# List all available fonts and filter by 'BM' (case-insensitive)\n",
    "available_fonts = fm.findSystemFonts(fontpaths=None, fontext='ttf')\n",
    "bm_fonts = [font for font in available_fonts if 'bm' in font.lower()]\n",
    "\n",
    "# Print the found fonts\n",
    "bm_fonts"
   ]
  },
  {
   "cell_type": "code",
   "execution_count": 138,
   "metadata": {},
   "outputs": [
    {
     "data": {
      "text/plain": [
       "'2024-12-14'"
      ]
     },
     "execution_count": 138,
     "metadata": {},
     "output_type": "execute_result"
    }
   ],
   "source": [
    "from datetime import datetime\n",
    "today = datetime.today().strftime('%Y-%m-%d')\n",
    "\n",
    "today"
   ]
  },
  {
   "cell_type": "code",
   "execution_count": null,
   "metadata": {},
   "outputs": [
    {
     "ename": "SyntaxError",
     "evalue": "invalid decimal literal (2220781458.py, line 7)",
     "output_type": "error",
     "traceback": [
      "\u001b[0;36m  Cell \u001b[0;32mIn[90], line 7\u001b[0;36m\u001b[0m\n\u001b[0;31m    'Carbs': 3g,\u001b[0m\n\u001b[0m             ^\u001b[0m\n\u001b[0;31mSyntaxError\u001b[0m\u001b[0;31m:\u001b[0m invalid decimal literal\n"
     ]
    }
   ],
   "source": []
  },
  {
   "cell_type": "code",
   "execution_count": 166,
   "metadata": {},
   "outputs": [
    {
     "data": {
      "text/plain": [
       "'True'"
      ]
     },
     "execution_count": 166,
     "metadata": {},
     "output_type": "execute_result"
    }
   ],
   "source": [
    "res = 'RequestLogin&&True&&34&&김선웅'\n",
    "res = res.split('&&')\n",
    "\n",
    "res[1]"
   ]
  },
  {
   "cell_type": "code",
   "execution_count": null,
   "metadata": {},
   "outputs": [
    {
     "name": "stdout",
     "output_type": "stream",
     "text": [
      "{'아침': ['가당초 (50g)', '고구마 (40g)', '간장 고기 (10g)'], '점심': ['고무자두 (100g)', '토마토 소스 (30g)', '치킨 (70g)'], '저녁': ['감자 (60g)', '오이 (50g)', '버터 차가्त (80g)']}\n"
     ]
    }
   ],
   "source": [
    "def MealAI(carb, protein, fat):\n",
    "    import ollama\n",
    "    import json\n",
    "\n",
    "    model = 'llama3.2'\n",
    "\n",
    "    prompt_content1 = (\n",
    "    \"Create a daily meal plan as a JSON object with the following structure: \"\n",
    "    '{\"breakfast\": [\"string (number g)\", ...], \"lunch\": [\"string (number g)\", ...], '\n",
    "    '\"dinner\": [\"string (number g)\", ...]}. '\n",
    "    \"Each meal should include a list of food items with their weights in grams, formatted as 'food name (weight g)'. \"\n",
    "    \"I want at least 3 types of foods for each meal\"\n",
    "    \"The JSON object must be valid and contain no additional explanation or text.\"\n",
    "    )\n",
    "    # Constructing the prompt\n",
    "    prompt_content2 = (\n",
    "        \"다음 구조로 JSON 객체 형태로 하루 식단을 작성하세요. \"\n",
    "        f\"탄수화물: {carb}g, 단백질: {protein}g, 지방: {fat}g 이 목표입니다. 결과물은 무조건 한국어여야 됩니다: \"\n",
    "        '{\"아침\": [\"string (number g)\", ...], \"점심\": [\"string (number g)\", ...], \"저녁\": [\"string (number g)\", ...]}. '\n",
    "        \"각 식사는 음식 항목과 그램 단위의 무게를 포함해야 하며, '음식 이름 (무게 g)' 형식으로 작성해야 합니다. \"\n",
    "        \"JSON 객체는 유효해야 하며 추가적인 설명이나 텍스트는 포함하지 마세요.\"\n",
    "    )\n",
    "\n",
    "    messages = [\n",
    "        {\"role\": \"user\", \"content\": prompt_content}\n",
    "    ]\n",
    "\n",
    "    try:\n",
    "        # API call to Ollama\n",
    "        response = ollama.chat(\n",
    "            model=model,\n",
    "            messages=messages\n",
    "        )\n",
    "\n",
    "        # Extracting and parsing the response\n",
    "        response_content = response.get('message', {}).get('content', '')\n",
    "        if not response_content:\n",
    "            print(\"Error: No content in response.\")\n",
    "            return None\n",
    "        \n",
    "        result_dict = json.loads(response_content)\n",
    "        \n",
    "        # Returning the result\n",
    "        return result_dict\n",
    "\n",
    "    except json.JSONDecodeError:\n",
    "        print(\"Error: The response could not be parsed as JSON.\")\n",
    "        return None\n",
    "    except Exception as e:\n",
    "        print(f\"An error occurred: {e}\")\n",
    "        return None\n",
    "\n",
    "# Example Usage\n",
    "meal_plan = MealAI(100, 100, 70)\n",
    "if meal_plan:\n",
    "    print(meal_plan)\n"
   ]
  },
  {
   "cell_type": "code",
   "execution_count": null,
   "metadata": {},
   "outputs": [],
   "source": [
    "from importlib.metadata import requires\n",
    "\n",
    "# from PyQt5.QtGui.QIcon import pixmap\n",
    "from PyQt5.QtWidgets import *\n",
    "from PyQt5.QtGui import *\n",
    "from PyQt5.QtCore import *\n",
    "from PyQt5 import uic\n",
    "import os\n",
    "import sys\n",
    "import socket\n",
    "import numpy as np\n",
    "import time\n",
    "import base64\n",
    "import cv2\n",
    "from PyQt5.QtGui import QPixmap\n",
    "from PyQt5.QtWidgets import QMainWindow, QApplication, QLabel\n",
    "import hashlib\n",
    "import select\n",
    "import mysql.connector\n",
    "from datetime import datetime, timedelta\n",
    "import matplotlib.pyplot as plt\n",
    "from matplotlib.backends.backend_qt5agg import FigureCanvasQTAgg as FigureCanvas\n",
    "import pandas as pd\n",
    "from io import BytesIO\n",
    "from PyQt5.QtCore import QThread, pyqtSignal\n",
    "\n",
    "current_dir = os.path.dirname(os.path.abspath(__file__))\n",
    "profile = uic.loadUiType(os.path.join(current_dir, 'profile.ui'))[0]\n",
    "\n",
    "class SunnyProfileWindow(QMainWindow, profile):\n",
    "    def __init__(self, control):\n",
    "        super(SunnyProfileWindow, self).__init__()\n",
    "        self.control = control\n",
    "        self.cap = None\n",
    "        self.setupUi(self)\n",
    "\n",
    "        # Navigation bar Design Setup\n",
    "        self.btn_home.setStyleSheet(\"\"\"\n",
    "                                    QPushButton {\n",
    "                                        border-image: url(SolCareGUI/img/home.png);\n",
    "                                        background-color: rgb(255, 255, 255,0);\n",
    "                                        border: 1px solid #2E7D32;\n",
    "                                        border-radius: 5px; \n",
    "                                        padding: 5px;\n",
    "                                        }\n",
    "                                    \"\"\")\n",
    "        self.btn_camera.setStyleSheet(\"\"\"\n",
    "                                    QPushButton {\n",
    "                                        border-image: url(SolCareGUI/img/VideoStabilization.png);\n",
    "                                        background-color: rgb(255, 255, 255,0);\n",
    "                                        border: 1px solid #2E7D32;\n",
    "                                        border-radius: 5px; \n",
    "                                        padding: 5px;\n",
    "                                        }\n",
    "                                    \"\"\")\n",
    "        self.btn_profile.setStyleSheet(\"\"\"\n",
    "                                    QPushButton {\n",
    "                                        border-image: url(SolCareGUI/img/User.png);\n",
    "                                        background-color: rgb(255, 255, 255,0);\n",
    "                                        border: 1px solid #2E7D32;\n",
    "                                        border-radius: 5px; \n",
    "                                        padding: 5px;\n",
    "                                        }\n",
    "                                    \"\"\")\n",
    "        self.lb_menu.setStyleSheet(\"\"\"\n",
    "                            QLabel {\n",
    "                                border-image: url('SolCareGUI/img/profile_menu.png');\n",
    "                                background-repeat: no-repeat;\n",
    "                                background-position: center;\n",
    "                                border: none; \n",
    "                            }\n",
    "                        \"\"\")\n",
    "        self.btn_security.setStyleSheet(\"\"\"\n",
    "                            QPushButton {\n",
    "                                border-image: url(SolCareGUI/img/Siren.png);\n",
    "                                border: 1px solid #2E7D32;\n",
    "                                border-radius: 5px; \n",
    "                                padding: 5px;\n",
    "                                }\n",
    "                            \"\"\")         \n",
    "\n",
    "    def MealAI(self, carb, protein, fat):\n",
    "        \n",
    "        import ollama\n",
    "        import json\n",
    "\n",
    "        model = 'llama3.2'\n",
    "\n",
    "        prompt_content = (\n",
    "            \"다음 구조로 JSON 객체 형태로 하루 식단을 작성하세요. \"\n",
    "            f\"탄수화물: {carb}g, 단백질: {protein}g, 지방: {fat}g 이 목표입니다. 결과물은 무조건 한국어여야 됩니다: \"\n",
    "            '{\"아침\": [\"string (number g)\", ...], \"점심\": [\"string (number g)\", ...], \"저녁\": [\"string (number g)\", ...]}. '\n",
    "            \"각 식사는 음식 항목과 그램 단위의 무게를 포함해야 하며, '음식 이름 (무게 g)' 형식으로 작성해야 합니다. \"\n",
    "            \"JSON 객체는 유효해야 하며 추가적인 설명이나 텍스트는 포함하지 마세요.\"\n",
    "        )\n",
    "\n",
    "        messages = [\n",
    "            {\"role\": \"user\", \"content\": prompt_content}\n",
    "        ]\n",
    "\n",
    "        response = ollama.chat(\n",
    "            model=model,\n",
    "            messages=messages\n",
    "        )\n",
    "\n",
    "        response_content = response.get('message', {}).get('content', '')\n",
    "\n",
    "        try:\n",
    "            result_dict = json.loads(response_content)\n",
    "            print(result_dict) \n",
    "        except json.JSONDecodeError as e:\n",
    "            print(\"Error decoding JSON:\", e)\n",
    "            print(\"Raw content:\", response_content)\n",
    "        msg_box = QMessageBox()\n",
    "        msg_box.setWindowTitle(\"식단 추천 결과\")\n",
    "        msg_box.setText(\"하루 식단 추천 결과입니다:\")\n",
    "        msg_box.setDetailedText(result_dict)\n",
    "        msg_box.setStandardButtons(QMessageBox.Ok)\n",
    "        msg_box.exec()\n",
    "    "
   ]
  },
  {
   "cell_type": "code",
   "execution_count": null,
   "metadata": {},
   "outputs": [
    {
     "data": {
      "image/png": "[encoded data removed]",
      "text/plain": [
       "<Figure size 600x450 with 2 Axes>"
      ]
     },
     "metadata": {},
     "output_type": "display_data"
    },
    {
     "ename": "",
     "evalue": "",
     "output_type": "error",
     "traceback": [
      "\u001b[1;31mThe Kernel crashed while executing code in the current cell or a previous cell. \n",
      "\u001b[1;31mPlease review the code in the cell(s) to identify a possible cause of the failure. \n",
      "\u001b[1;31mClick <a href='https://aka.ms/vscodeJupyterKernelCrash'>here</a> for more info. \n",
      "\u001b[1;31mView Jupyter <a href='command:jupyter.viewOutput'>log</a> for further details."
     ]
    }
   ],
   "source": [
    "Current_User_ID = 34\n",
    "from_date = '2024-11-1'\n",
    "to_date = '2024-11-7'\n",
    "\n",
    "db = mysql.connector.connect(\n",
    "    host=\"database-1.cbcw28i2we7h.us-east-2.rds.amazonaws.com\",\n",
    "    user=\"ks\",\n",
    "    password=\"1234\",\n",
    "    database=\"nahonlab\"\n",
    ")\n",
    "\n",
    "query = \"\"\"\n",
    "    SELECT \n",
    "        record_date, \n",
    "        weight, \n",
    "        fat_percent, \n",
    "        muscle_mass, \n",
    "        calories_burned, \n",
    "        calories_intake\n",
    "    FROM \n",
    "        user_body_metrics\n",
    "    WHERE \n",
    "        user_id = %s \n",
    "        AND record_date BETWEEN %s AND %s\n",
    "    ORDER BY \n",
    "        record_date ASC;\n",
    "    \"\"\"\n",
    "cursor = db.cursor(dictionary=True)\n",
    "cursor.execute(query, (Current_User_ID, from_date, to_date))\n",
    "result = cursor.fetchall()\n",
    "cursor.close()\n",
    "data = pd.DataFrame(result)\n",
    "\n",
    "fig, axs = plt.subplots(2, 1, figsize=(6, 4.5), constrained_layout=True)\n",
    "\n",
    "\n",
    "for metric in ['weight', 'fat_percent', 'muscle_mass']:\n",
    "    if metric in data.columns:\n",
    "        axs[0].plot(data['record_date'], data[metric], label=metric)\n",
    "\n",
    "axs[0].set_title('체성분')\n",
    "axs[0].legend(loc='upper left', bbox_to_anchor=(1, 1))  \n",
    "axs[0].tick_params(axis='x', rotation=45)\n",
    "\n",
    "#두번째 plot\n",
    "for metric in ['calories_burned', 'calories_intake']:\n",
    "    if metric in data.columns:\n",
    "        axs[1].plot(data['record_date'], data[metric], label=metric)\n",
    "\n",
    "axs[1].set_title('칼로리 통계')\n",
    "axs[1].legend(loc='upper left', bbox_to_anchor=(1, 1)) \n",
    "axs[1].tick_params(axis='x', rotation=45) \n",
    "\n",
    "canvas = FigureCanvas(fig)\n",
    "buf = BytesIO()\n",
    "canvas.print_png(buf)\n",
    "buf.seek(0)\n",
    "pixmap = QPixmap()\n",
    "pixmap.loadFromData(buf.getvalue())\n",
    "buf.close()"
   ]
  },
  {
   "cell_type": "code",
   "execution_count": 10,
   "metadata": {},
   "outputs": [
    {
     "name": "stdout",
     "output_type": "stream",
     "text": [
      "[('Dips', datetime.date(2024, 12, 20), Decimal('10')), ('Pullup', datetime.date(2024, 12, 20), Decimal('12')), ('Pushup', datetime.date(2024, 12, 20), Decimal('10'))]\n",
      "<class 'str'>\n",
      "[('Dips', datetime.date(2024, 12, 20), Decimal('10')), ('Pullup', datetime.date(2024, 12, 20), Decimal('12')), ('Pushup', datetime.date(2024, 12, 20), Decimal('10'))]\n",
      "<class 'datetime.date'>\n"
     ]
    }
   ],
   "source": [
    "# [('Dips', datetime.date(2024, 12, 20), Decimal('10')), ('Pullup', datetime.date(2024, 12, 20), Decimal('12')), ('Pushup', datetime.date(2024, 12, 20), Decimal('10'))]\n",
    "\n",
    "import datetime\n",
    "from decimal import Decimal\n",
    "\n",
    "response= \"RequestTodayAnalytics&&[('Dips', datetime.date(2024, 12, 20), Decimal('10')), ('Pullup', datetime.date(2024, 12, 20), Decimal('12')), ('Pushup', datetime.date(2024, 12, 20), Decimal('10'))]\"\n",
    "\n",
    "# s_result.split('&&')\n",
    "# result = []\n",
    "\n",
    "# exec(f\"\"\"result = {s_result}\"\"\")\n",
    "\n",
    "# print(result)\n",
    "\n",
    "# print(result[0][1])\n",
    "# print(type(result[0][1]))\n",
    "\n",
    "parts = response.split('&&')\n",
    "\n",
    "s_result = parts[1]\n",
    "print(s_result)\n",
    "print(type(s_result))\n",
    "result = []\n",
    "exec(f\"\"\"result = {s_result}\"\"\")\n",
    "print(result)\n",
    "print(type(result[0][1]))"
   ]
  },
  {
   "cell_type": "code",
   "execution_count": 9,
   "metadata": {},
   "outputs": [
    {
     "ename": "AttributeError",
     "evalue": "'datetime.date' object has no attribute 'toString'",
     "output_type": "error",
     "traceback": [
      "\u001b[0;31m---------------------------------------------------------------------------\u001b[0m",
      "\u001b[0;31mAttributeError\u001b[0m                            Traceback (most recent call last)",
      "Cell \u001b[0;32mIn[9], line 1\u001b[0m\n\u001b[0;32m----> 1\u001b[0m \u001b[43mresult\u001b[49m\u001b[43m[\u001b[49m\u001b[38;5;241;43m0\u001b[39;49m\u001b[43m]\u001b[49m\u001b[43m[\u001b[49m\u001b[38;5;241;43m1\u001b[39;49m\u001b[43m]\u001b[49m\u001b[38;5;241;43m.\u001b[39;49m\u001b[43mtoString\u001b[49m()\n",
      "\u001b[0;31mAttributeError\u001b[0m: 'datetime.date' object has no attribute 'toString'"
     ]
    }
   ],
   "source": []
  },
  {
   "cell_type": "code",
   "execution_count": 1,
   "metadata": {},
   "outputs": [
    {
     "name": "stdout",
     "output_type": "stream",
     "text": [
      "11.0.0\n"
     ]
    }
   ],
   "source": [
    "import PIL\n",
    "\n",
    "print(PIL.__version__)"
   ]
  },
  {
   "cell_type": "code",
   "execution_count": null,
   "metadata": {},
   "outputs": [],
   "source": []
  }
 ],
 "metadata": {
  "kernelspec": {
   "display_name": ".venv",
   "language": "python",
   "name": "python3"
  },
  "language_info": {
   "codemirror_mode": {
    "name": "ipython",
    "version": 3
   },
   "file_extension": ".py",
   "mimetype": "text/x-python",
   "name": "python",
   "nbconvert_exporter": "python",
   "pygments_lexer": "ipython3",
   "version": "3.13.1"
  }
 },
 "nbformat": 4,
 "nbformat_minor": 2
}
