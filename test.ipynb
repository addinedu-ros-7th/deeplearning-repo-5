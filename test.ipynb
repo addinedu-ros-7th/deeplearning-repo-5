{
 "cells": [
  {
   "cell_type": "markdown",
   "metadata": {},
   "source": [
    "### User 정보 확인"
   ]
  },
  {
   "cell_type": "markdown",
   "metadata": {},
   "source": [
    "## "
   ]
  },
  {
   "cell_type": "code",
   "execution_count": null,
   "metadata": {},
   "outputs": [],
   "source": [
    "import hashlib\n",
    "import mysql.connector\n",
    "\n",
    "def CheckUserInfo(user_info):\n",
    "    db = mysql.connector.connect(\n",
    "        host=\"database-1.cbcw28i2we7h.us-east-2.rds.amazonaws.com\",\n",
    "        user=\"ks\",\n",
    "        password=\"1234\",\n",
    "        database=\"nahonlab\"\n",
    "    )\n",
    "    input_username = user_info[0]\n",
    "    input_password = user_info[1]\n",
    "    password_hash = hashlib.sha256(input_password.encode(\"utf-8\")).hexdigest()\n",
    "\n",
    "    cursor = db.cursor()\n",
    "    query = \"\"\"\n",
    "    SELECT id, username FROM users\n",
    "    WHERE username = %s AND password_hash = %s\n",
    "    \"\"\"\n",
    "    cursor.execute(query, (input_username, password_hash))\n",
    "\n",
    "    # Fetch results\n",
    "    result = cursor.fetchone()\n",
    "\n",
    "    if result:\n",
    "        print(\"login_success\") # or 0 send TCP\n",
    "    else:\n",
    "        print(\"login_fail\") # or 1send TCP\n",
    "\n",
    "    cursor.close()\n",
    "    db.close()\n"
   ]
  }
 ],
 "metadata": {
  "kernelspec": {
   "display_name": ".venv",
   "language": "python",
   "name": "python3"
  },
  "language_info": {
   "codemirror_mode": {
    "name": "ipython",
    "version": 3
   },
   "file_extension": ".py",
   "mimetype": "text/x-python",
   "name": "python",
   "nbconvert_exporter": "python",
   "pygments_lexer": "ipython3",
   "version": "3.13.1"
  }
 },
 "nbformat": 4,
 "nbformat_minor": 2
}
